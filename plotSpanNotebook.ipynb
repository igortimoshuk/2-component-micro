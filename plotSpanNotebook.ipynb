{
 "cells": [
  {
   "cell_type": "code",
   "execution_count": 95,
   "metadata": {},
   "outputs": [],
   "source": [
    "import os\n",
    "import scipy as sp\n",
    "from postProcessing.importData import *\n",
    "\n",
    "NAMES = ['64cl_sv_p10', '64cl_sv_p15', '64cl_sv_p18', '64cl_sv_p20', '64cl_sv_p23', \n",
    "         '64cl_sv_p25', '64cl_sv_p27', '64cl_sv_p30', '64cl_sv_p33', '64cl_sv_p35', '64cl_sv_p37', '64cl_sv_p40','64cl_sv_p45']\n",
    "data = [None] * len(NAMES)"
   ]
  },
  {
   "cell_type": "code",
   "execution_count": 96,
   "metadata": {},
   "outputs": [
    {
     "name": "stdout",
     "output_type": "stream",
     "text": [
      "b'float'\n",
      "SELF CONSISTENT [GAUGE, HARTREE]  ==> [True, False]\n",
      "The current simulation does not export HoppingFields\n",
      "Note: Magnetic free energy density not added to free energy density because defined on plaquettes\n",
      "COMMON VARIABLES:\n",
      "T    ==>  0.26431718468666077\n",
      "q    ==>  0.800000011920929\n",
      "Bext ==>  (0., 0., 0.)\n",
      "Emax ==>  21.020000457763672\n",
      "[Component 1, Component 2]\n",
      "t_x  ==>  [1.+0.j 1.+0.j]\n",
      "t_y  ==>  [1.+0.j 1.+0.j]\n",
      "mu   ==>  [0. 0.]\n",
      "h    ==>  [0. 0.]\n",
      "Coupling matrix V:\n",
      " 2.5  0.01  \n",
      "0.01   2.2  \n",
      "Inverse of V:\n",
      "   0.400007  -0.00181821  \n",
      "-0.00181821     0.454554  \n",
      "detV ==> 5.49990011921376\n",
      "b'float'\n",
      "SELF CONSISTENT [GAUGE, HARTREE]  ==> [True, False]\n",
      "The current simulation does not export HoppingFields\n",
      "Note: Magnetic free energy density not added to free energy density because defined on plaquettes\n",
      "COMMON VARIABLES:\n",
      "T    ==>  0.26431718468666077\n",
      "q    ==>  0.800000011920929\n",
      "Bext ==>  (0., 0., 0.)\n",
      "Emax ==>  21.020000457763672\n",
      "[Component 1, Component 2]\n",
      "t_x  ==>  [1.+0.j 1.+0.j]\n",
      "t_y  ==>  [1.+0.j 1.+0.j]\n",
      "mu   ==>  [0. 0.]\n",
      "h    ==>  [0. 0.]\n",
      "Coupling matrix V:\n",
      " 2.5  0.01  \n",
      "0.01   2.2  \n",
      "Inverse of V:\n",
      "   0.400007  -0.00181821  \n",
      "-0.00181821     0.454554  \n",
      "detV ==> 5.49990011921376\n",
      "b'float'\n",
      "SELF CONSISTENT [GAUGE, HARTREE]  ==> [True, False]\n",
      "The current simulation does not export HoppingFields\n",
      "Note: Magnetic free energy density not added to free energy density because defined on plaquettes\n",
      "COMMON VARIABLES:\n",
      "T    ==>  0.26431718468666077\n",
      "q    ==>  0.800000011920929\n",
      "Bext ==>  (0., 0., 0.)\n",
      "Emax ==>  21.020000457763672\n",
      "[Component 1, Component 2]\n",
      "t_x  ==>  [1.+0.j 1.+0.j]\n",
      "t_y  ==>  [1.+0.j 1.+0.j]\n",
      "mu   ==>  [0. 0.]\n",
      "h    ==>  [0. 0.]\n",
      "Coupling matrix V:\n",
      " 2.5  0.01  \n",
      "0.01   2.2  \n",
      "Inverse of V:\n",
      "   0.400007  -0.00181821  \n",
      "-0.00181821     0.454554  \n",
      "detV ==> 5.49990011921376\n",
      "b'float'\n",
      "SELF CONSISTENT [GAUGE, HARTREE]  ==> [True, False]\n",
      "The current simulation does not export HoppingFields\n",
      "Note: Magnetic free energy density not added to free energy density because defined on plaquettes\n",
      "COMMON VARIABLES:\n",
      "T    ==>  0.26431718468666077\n",
      "q    ==>  0.800000011920929\n",
      "Bext ==>  (0., 0., 0.)\n",
      "Emax ==>  21.020000457763672\n",
      "[Component 1, Component 2]\n",
      "t_x  ==>  [1.+0.j 1.+0.j]\n",
      "t_y  ==>  [1.+0.j 1.+0.j]\n",
      "mu   ==>  [0. 0.]\n",
      "h    ==>  [0. 0.]\n",
      "Coupling matrix V:\n",
      " 2.5  0.01  \n",
      "0.01   2.2  \n",
      "Inverse of V:\n",
      "   0.400007  -0.00181821  \n",
      "-0.00181821     0.454554  \n",
      "detV ==> 5.49990011921376\n",
      "b'float'\n",
      "SELF CONSISTENT [GAUGE, HARTREE]  ==> [True, False]\n",
      "The current simulation does not export HoppingFields\n",
      "Note: Magnetic free energy density not added to free energy density because defined on plaquettes\n",
      "COMMON VARIABLES:\n",
      "T    ==>  0.26431718468666077\n",
      "q    ==>  0.800000011920929\n",
      "Bext ==>  (0., 0., 0.)\n",
      "Emax ==>  21.020000457763672\n",
      "[Component 1, Component 2]\n",
      "t_x  ==>  [1.+0.j 1.+0.j]\n",
      "t_y  ==>  [1.+0.j 1.+0.j]\n",
      "mu   ==>  [0. 0.]\n",
      "h    ==>  [0. 0.]\n",
      "Coupling matrix V:\n",
      " 2.5  0.01  \n",
      "0.01   2.2  \n",
      "Inverse of V:\n",
      "   0.400007  -0.00181821  \n",
      "-0.00181821     0.454554  \n",
      "detV ==> 5.49990011921376\n",
      "b'float'\n",
      "SELF CONSISTENT [GAUGE, HARTREE]  ==> [True, False]\n",
      "The current simulation does not export HoppingFields\n",
      "Note: Magnetic free energy density not added to free energy density because defined on plaquettes\n",
      "COMMON VARIABLES:\n",
      "T    ==>  0.26431718468666077\n",
      "q    ==>  0.800000011920929\n",
      "Bext ==>  (0., 0., 0.)\n",
      "Emax ==>  21.020000457763672\n",
      "[Component 1, Component 2]\n",
      "t_x  ==>  [1.+0.j 1.+0.j]\n",
      "t_y  ==>  [1.+0.j 1.+0.j]\n",
      "mu   ==>  [0. 0.]\n",
      "h    ==>  [0. 0.]\n",
      "Coupling matrix V:\n",
      " 2.5  0.01  \n",
      "0.01   2.2  \n",
      "Inverse of V:\n",
      "   0.400007  -0.00181821  \n",
      "-0.00181821     0.454554  \n",
      "detV ==> 5.49990011921376\n",
      "b'float'\n",
      "SELF CONSISTENT [GAUGE, HARTREE]  ==> [True, False]\n",
      "The current simulation does not export HoppingFields\n",
      "Note: Magnetic free energy density not added to free energy density because defined on plaquettes\n",
      "COMMON VARIABLES:\n",
      "T    ==>  0.26431718468666077\n",
      "q    ==>  0.800000011920929\n",
      "Bext ==>  (0., 0., 0.)\n",
      "Emax ==>  21.020000457763672\n",
      "[Component 1, Component 2]\n",
      "t_x  ==>  [1.+0.j 1.+0.j]\n",
      "t_y  ==>  [1.+0.j 1.+0.j]\n",
      "mu   ==>  [0. 0.]\n",
      "h    ==>  [0. 0.]\n",
      "Coupling matrix V:\n",
      " 2.5  0.01  \n",
      "0.01   2.2  \n",
      "Inverse of V:\n",
      "   0.400007  -0.00181821  \n",
      "-0.00181821     0.454554  \n",
      "detV ==> 5.49990011921376\n",
      "b'float'\n",
      "SELF CONSISTENT [GAUGE, HARTREE]  ==> [True, False]\n",
      "The current simulation does not export HoppingFields\n",
      "Note: Magnetic free energy density not added to free energy density because defined on plaquettes\n",
      "COMMON VARIABLES:\n",
      "T    ==>  0.26431718468666077\n",
      "q    ==>  0.800000011920929\n",
      "Bext ==>  (0., 0., 0.)\n",
      "Emax ==>  21.020000457763672\n",
      "[Component 1, Component 2]\n",
      "t_x  ==>  [1.+0.j 1.+0.j]\n",
      "t_y  ==>  [1.+0.j 1.+0.j]\n",
      "mu   ==>  [0. 0.]\n",
      "h    ==>  [0. 0.]\n",
      "Coupling matrix V:\n",
      " 2.5  0.01  \n",
      "0.01   2.2  \n",
      "Inverse of V:\n",
      "   0.400007  -0.00181821  \n",
      "-0.00181821     0.454554  \n",
      "detV ==> 5.49990011921376\n",
      "b'float'\n",
      "SELF CONSISTENT [GAUGE, HARTREE]  ==> [True, False]\n",
      "The current simulation does not export HoppingFields\n",
      "Note: Magnetic free energy density not added to free energy density because defined on plaquettes\n",
      "COMMON VARIABLES:\n",
      "T    ==>  0.26431718468666077\n",
      "q    ==>  0.800000011920929\n",
      "Bext ==>  (0., 0., 0.)\n",
      "Emax ==>  21.020000457763672\n",
      "[Component 1, Component 2]\n",
      "t_x  ==>  [1.+0.j 1.+0.j]\n",
      "t_y  ==>  [1.+0.j 1.+0.j]\n",
      "mu   ==>  [0. 0.]\n",
      "h    ==>  [0. 0.]\n",
      "Coupling matrix V:\n",
      " 2.5  0.01  \n",
      "0.01   2.2  \n",
      "Inverse of V:\n",
      "   0.400007  -0.00181821  \n",
      "-0.00181821     0.454554  \n",
      "detV ==> 5.49990011921376\n",
      "b'float'\n",
      "SELF CONSISTENT [GAUGE, HARTREE]  ==> [True, False]\n",
      "The current simulation does not export HoppingFields\n",
      "Note: Magnetic free energy density not added to free energy density because defined on plaquettes\n",
      "COMMON VARIABLES:\n",
      "T    ==>  0.26431718468666077\n",
      "q    ==>  0.800000011920929\n",
      "Bext ==>  (0., 0., 0.)\n",
      "Emax ==>  21.020000457763672\n",
      "[Component 1, Component 2]\n",
      "t_x  ==>  [1.+0.j 1.+0.j]\n",
      "t_y  ==>  [1.+0.j 1.+0.j]\n",
      "mu   ==>  [0. 0.]\n",
      "h    ==>  [0. 0.]\n",
      "Coupling matrix V:\n",
      " 2.5  0.01  \n",
      "0.01   2.2  \n",
      "Inverse of V:\n",
      "   0.400007  -0.00181821  \n",
      "-0.00181821     0.454554  \n",
      "detV ==> 5.49990011921376\n",
      "b'float'\n",
      "SELF CONSISTENT [GAUGE, HARTREE]  ==> [True, False]\n",
      "The current simulation does not export HoppingFields\n",
      "Note: Magnetic free energy density not added to free energy density because defined on plaquettes\n",
      "COMMON VARIABLES:\n",
      "T    ==>  0.26431718468666077\n",
      "q    ==>  0.800000011920929\n",
      "Bext ==>  (0., 0., 0.)\n",
      "Emax ==>  21.020000457763672\n",
      "[Component 1, Component 2]\n",
      "t_x  ==>  [1.+0.j 1.+0.j]\n",
      "t_y  ==>  [1.+0.j 1.+0.j]\n",
      "mu   ==>  [0. 0.]\n",
      "h    ==>  [0. 0.]\n",
      "Coupling matrix V:\n",
      " 2.5  0.01  \n",
      "0.01   2.2  \n",
      "Inverse of V:\n",
      "   0.400007  -0.00181821  \n",
      "-0.00181821     0.454554  \n",
      "detV ==> 5.49990011921376\n",
      "b'float'\n",
      "SELF CONSISTENT [GAUGE, HARTREE]  ==> [True, False]\n",
      "The current simulation does not export HoppingFields\n",
      "Note: Magnetic free energy density not added to free energy density because defined on plaquettes\n",
      "COMMON VARIABLES:\n",
      "T    ==>  0.26431718468666077\n",
      "q    ==>  0.800000011920929\n",
      "Bext ==>  (0., 0., 0.)\n",
      "Emax ==>  21.020000457763672\n",
      "[Component 1, Component 2]\n",
      "t_x  ==>  [1.+0.j 1.+0.j]\n",
      "t_y  ==>  [1.+0.j 1.+0.j]\n",
      "mu   ==>  [0. 0.]\n",
      "h    ==>  [0. 0.]\n",
      "Coupling matrix V:\n",
      " 2.5  0.01  \n",
      "0.01   2.2  \n",
      "Inverse of V:\n",
      "   0.400007  -0.00181821  \n",
      "-0.00181821     0.454554  \n",
      "detV ==> 5.49990011921376\n",
      "b'float'\n",
      "SELF CONSISTENT [GAUGE, HARTREE]  ==> [True, False]\n",
      "The current simulation does not export HoppingFields\n",
      "Note: Magnetic free energy density not added to free energy density because defined on plaquettes\n",
      "COMMON VARIABLES:\n",
      "T    ==>  0.26431718468666077\n",
      "q    ==>  0.800000011920929\n",
      "Bext ==>  (0., 0., 0.)\n",
      "Emax ==>  21.020000457763672\n",
      "[Component 1, Component 2]\n",
      "t_x  ==>  [1.+0.j 1.+0.j]\n",
      "t_y  ==>  [1.+0.j 1.+0.j]\n",
      "mu   ==>  [0. 0.]\n",
      "h    ==>  [0. 0.]\n",
      "Coupling matrix V:\n",
      " 2.5  0.01  \n",
      "0.01   2.2  \n",
      "Inverse of V:\n",
      "   0.400007  -0.00181821  \n",
      "-0.00181821     0.454554  \n",
      "detV ==> 5.49990011921376\n"
     ]
    }
   ],
   "source": [
    "for i, name in enumerate(NAMES):\n",
    "    PATH = \"./simulations/\" + name\n",
    "    if(os.path.isdir(name)):\n",
    "        print(\"Enter a valid file name\")\n",
    "    else:\n",
    "        PATH += \".h5\"\n",
    "        data[i] = dataProcessing(PATH)\n",
    "    data[i].printHamiltonian()"
   ]
  },
  {
   "cell_type": "code",
   "execution_count": 97,
   "metadata": {},
   "outputs": [
    {
     "name": "stdout",
     "output_type": "stream",
     "text": [
      "b'float'\n",
      "SELF CONSISTENT [GAUGE, HARTREE]  ==> [True, False]\n",
      "The current simulation does not export HoppingFields\n",
      "Note: Magnetic free energy density not added to free energy density because defined on plaquettes\n",
      "b'float'\n",
      "SELF CONSISTENT [GAUGE, HARTREE]  ==> [True, False]\n",
      "The current simulation does not export HoppingFields\n",
      "Note: Magnetic free energy density not added to free energy density because defined on plaquettes\n"
     ]
    }
   ],
   "source": [
    "NAME_V = \"64cl_sv_2-2\" \n",
    "NAME_U = '64cl_u_s3'\n",
    "   \n",
    "\n",
    "PATH = \"./simulations/\" + NAME_V\n",
    "if(os.path.isdir(NAME_V)):\n",
    "    print(\"Enter a valid file name\")\n",
    "else:\n",
    "    PATH += \".h5\"\n",
    "    data_v = dataProcessing(PATH)\n",
    "\n",
    "PATH = \"./simulations/\" + NAME_U\n",
    "if(os.path.isdir(NAME_U)):\n",
    "    print(\"Enter a valid file name\")\n",
    "else:\n",
    "    PATH += \".h5\"\n",
    "    data_u = dataProcessing(PATH)"
   ]
  },
  {
   "cell_type": "code",
   "execution_count": 98,
   "metadata": {},
   "outputs": [],
   "source": [
    "energies = np.zeros(len(NAMES))\n",
    "for i, el in enumerate(data):\n",
    "    energies[i] = el.FreeEnergy"
   ]
  },
  {
   "cell_type": "code",
   "execution_count": 106,
   "metadata": {},
   "outputs": [],
   "source": [
    "en_mag = np.zeros(len(NAMES))\n",
    "en_f1 = np.zeros(len(NAMES))\n",
    "en_f2 = np.zeros(len(NAMES))\n",
    "for i, el in enumerate(data):\n",
    "    en_mag[i] = np.sum(0.5 * el.B ** 2)\n",
    "    en_f1[i] = np.sum(el.f1)\n",
    "    en_f2[i] = np.sum(el.f2)"
   ]
  },
  {
   "cell_type": "code",
   "execution_count": 105,
   "metadata": {},
   "outputs": [],
   "source": [
    "e_v = data_v.FreeEnergy\n",
    "e_u = data_u.FreeEnergy"
   ]
  },
  {
   "cell_type": "code",
   "execution_count": 114,
   "metadata": {},
   "outputs": [],
   "source": [
    "en_mag_u = np.sum(0.5 * data_u.B ** 2)\n",
    "en_f1_u = np.sum(data_u.f1)\n",
    "en_f2_u = np.sum(data_u.f2)\n",
    "\n",
    "en_mag_v = np.sum(0.5 * data_v.B ** 2)\n",
    "en_f1_v = np.sum(data_v.f1)\n",
    "en_f2_v = np.sum(data_v.f2)"
   ]
  },
  {
   "cell_type": "code",
   "execution_count": 100,
   "metadata": {},
   "outputs": [],
   "source": [
    "dist = np.zeros(len(NAMES))\n",
    "for i in range(len(NAMES)):\n",
    "    dist[i] = float('0.' + NAMES[i][-2:])"
   ]
  },
  {
   "cell_type": "code",
   "execution_count": 118,
   "metadata": {},
   "outputs": [
    {
     "data": {
      "image/png": "[encoded data removed]",
      "text/plain": [
       "<Figure size 344x344 with 1 Axes>"
      ]
     },
     "metadata": {},
     "output_type": "display_data"
    }
   ],
   "source": [
    "plt.plot(dist[:], (en_mag + en_mag_u - 2 * en_mag_v)[:], label = 'mag')\n",
    "plt.plot(dist[:], (en_f1 + en_f2 + en_f1_u + en_f2_u - 2 * en_f1_v - 2 * en_f2_v)[:], label = 'grad')\n",
    "#plt.plot(dist[:], (en_f1 + en_f1_u - 2 * en_f1_v)[:], label = 'f1')\n",
    "#plt.plot(dist[:], (en_f2 + en_f2_u - 2 * en_f2_v)[:], label = 'f2')\n",
    "plt.legend()\n",
    "plt.show()"
   ]
  },
  {
   "cell_type": "code",
   "execution_count": 122,
   "metadata": {},
   "outputs": [
    {
     "data": {
      "text/plain": [
       "[<matplotlib.lines.Line2D at 0x7f8d4379c410>]"
      ]
     },
     "execution_count": 122,
     "metadata": {},
     "output_type": "execute_result"
    },
    {
     "data": {
      "image/png": "[encoded data removed]",
      "text/plain": [
       "<Figure size 344x344 with 1 Axes>"
      ]
     },
     "metadata": {},
     "output_type": "display_data"
    }
   ],
   "source": [
    "plt.plot(dist[:], (en_mag + en_mag_u - 2 * en_mag_v)[:], label = 'mag')"
   ]
  },
  {
   "cell_type": "code",
   "execution_count": 121,
   "metadata": {},
   "outputs": [
    {
     "data": {
      "text/plain": [
       "[<matplotlib.lines.Line2D at 0x7f8d4370d3d0>]"
      ]
     },
     "execution_count": 121,
     "metadata": {},
     "output_type": "execute_result"
    },
    {
     "data": {
      "image/png": "[encoded data removed]",
      "text/plain": [
       "<Figure size 344x344 with 1 Axes>"
      ]
     },
     "metadata": {},
     "output_type": "display_data"
    }
   ],
   "source": [
    "plt.plot(dist[:], (en_f1)[:], label = 'mag')\n",
    "plt.plot(dist[:], (en_f2)[:], label = 'mag')"
   ]
  },
  {
   "cell_type": "code",
   "execution_count": 109,
   "metadata": {},
   "outputs": [
    {
     "data": {
      "text/plain": [
       "[<matplotlib.lines.Line2D at 0x7f8d439aad90>]"
      ]
     },
     "execution_count": 109,
     "metadata": {},
     "output_type": "execute_result"
    },
    {
     "data": {
      "image/png": "[encoded data removed]",
      "text/plain": [
       "<Figure size 344x344 with 1 Axes>"
      ]
     },
     "metadata": {},
     "output_type": "display_data"
    }
   ],
   "source": [
    "plt.plot(dist[:], (energies)[:], label = 'total')\n",
    "#plt.plot(dist[:], (en_mag)[:], label = 'mag')\n",
    "#plt.plot(dist[:], (en_f1)[:], label = 'mag')"
   ]
  },
  {
   "cell_type": "code",
   "execution_count": 101,
   "metadata": {},
   "outputs": [],
   "source": [
    "import matplotlib\n",
    "from matplotlib import pyplot as plt"
   ]
  },
  {
   "cell_type": "code",
   "execution_count": 102,
   "metadata": {},
   "outputs": [
    {
     "data": {
      "text/plain": [
       "array([0.1 , 0.15, 0.18, 0.2 , 0.23, 0.25, 0.27, 0.3 , 0.33, 0.35, 0.37,\n",
       "       0.4 , 0.45])"
      ]
     },
     "execution_count": 102,
     "metadata": {},
     "output_type": "execute_result"
    }
   ],
   "source": [
    "dist"
   ]
  },
  {
   "cell_type": "code",
   "execution_count": 103,
   "metadata": {},
   "outputs": [
    {
     "data": {
      "image/png": "[encoded data removed]",
      "text/plain": [
       "<Figure size 344x344 with 1 Axes>"
      ]
     },
     "metadata": {},
     "output_type": "display_data"
    }
   ],
   "source": [
    "plt.plot(dist[:], (energies - e_v * 2 + e_u)[:] / np.abs(e_u - e_v), label = 'total')\n",
    "plt.plot(dist[:], (energies - e_v * 2 + e_u)[:] / np.abs(e_u - e_v), label = 'total')\n",
    "plt.ylabel(r'$E_c / E_{v}$')\n",
    "#plt.yscale('log')\n",
    "plt.xlabel(r'$r$')\n",
    "plt.savefig('images/energy_dep.pdf', bbox_inches='tight')"
   ]
  },
  {
   "cell_type": "code",
   "execution_count": null,
   "metadata": {},
   "outputs": [],
   "source": []
  },
  {
   "cell_type": "code",
   "execution_count": null,
   "metadata": {},
   "outputs": [],
   "source": []
  }
 ],
 "metadata": {
  "interpreter": {
   "hash": "808c0a04072106e852dcdbb24b540d73bee8c79003ea78fc43ea2c4ece76eaf3"
  },
  "kernelspec": {
   "display_name": "Python 3.7.7 ('base')",
   "language": "python",
   "name": "python3"
  },
  "language_info": {
   "codemirror_mode": {
    "name": "ipython",
    "version": 3
   },
   "file_extension": ".py",
   "mimetype": "text/x-python",
   "name": "python",
   "nbconvert_exporter": "python",
   "pygments_lexer": "ipython3",
   "version": "3.11.5"
  },
  "orig_nbformat": 2
 },
 "nbformat": 4,
 "nbformat_minor": 2
}
