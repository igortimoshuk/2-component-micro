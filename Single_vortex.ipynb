{
 "cells": [
  {
   "cell_type": "code",
   "execution_count": 12,
   "metadata": {},
   "outputs": [
    {
     "name": "stdout",
     "output_type": "stream",
     "text": [
      "b'float'\n",
      "SELF CONSISTENT [GAUGE, HARTREE]  ==> [True, False]\n",
      "The current simulation does not export HoppingFields\n",
      "Note: Magnetic free energy density not added to free energy density because defined on plaquettes\n"
     ]
    }
   ],
   "source": [
    "import os\n",
    "import scipy as sp\n",
    "import rsmf\n",
    "import matplotlib\n",
    "from matplotlib import pyplot as plt\n",
    "from postProcessing.importData import *\n",
    "\n",
    "\n",
    "#Insert name here\n",
    "NAME = \"64cl_u_s3\" \n",
    "# first type 64cl_u_s1\n",
    "# second type 64cl_u_s3\n",
    "#################\n",
    "\n",
    "\n",
    "PATH = \"./simulations/\" + NAME\n",
    "if(os.path.isdir(NAME)):\n",
    "    print(\"Enter a valid file name\")\n",
    "else:\n",
    "    PATH += \".h5\"\n",
    "    data_0 = dataProcessing(PATH)\n"
   ]
  },
  {
   "cell_type": "code",
   "execution_count": 13,
   "metadata": {},
   "outputs": [
    {
     "name": "stdout",
     "output_type": "stream",
     "text": [
      "b'float'\n",
      "SELF CONSISTENT [GAUGE, HARTREE]  ==> [True, False]\n",
      "The current simulation does not export HoppingFields\n",
      "Note: Magnetic free energy density not added to free energy density because defined on plaquettes\n"
     ]
    }
   ],
   "source": [
    "NAME = \"64cl_v_s3\" #11-vortex case 6422JO-1.70c12-1.h5 ; 7-vortex case #4822W-1, 11-vortex case 6422JO-1.70c19-1.h5 ; 4822J1, 4822J, 4822JL-1, 4822JL-10, 64MJO-1.70c19.h5\n",
    "# first type - 64cl_v, 64cl_11, 64_cl_18, 64cl_LV, 64cl_LV18\n",
    "# second type - 64cl_v_s3, 64cl_s_18, 64cl_s_11, 64cl_s_7, 64cl_s_3, 64cl_s_3-1, 64cl_s_3-1-1\n",
    "# third type - 64cl_sv_2-2, 64cl_sv_18, 64cl_sv_11, 64cl_sv_7, 64cl_sv_LV_11, 64cl_sv_LV_5\n",
    "# fourth type 64cl_sv_4\n",
    "PATH = \"./simulations/\" + NAME\n",
    "if(os.path.isdir(NAME)):\n",
    "    print(\"Enter a valid file name\")\n",
    "else:\n",
    "    PATH += \".h5\"\n",
    "    data = dataProcessing(PATH)"
   ]
  },
  {
   "cell_type": "code",
   "execution_count": 16,
   "metadata": {},
   "outputs": [],
   "source": [
    "fmt = rsmf.setup(r\"\\documentclass[aps, prb, superscriptaddress, twocolumn, letterpaper, 10pt, amsfonts, amsmath, amssymb, groupedaddress, longbibliography]{revtex4-2}\")"
   ]
  },
  {
   "cell_type": "code",
   "execution_count": 20,
   "metadata": {},
   "outputs": [],
   "source": [
    "edge = 2\n",
    "cp = 37\n",
    "row = 34\n",
    "d_1 = (np.abs(data_0.D_1) - np.abs(data.D_1))[row, cp:-edge]\n",
    "d_2 = (np.abs(data_0.D_2) - np.abs(data.D_2))[row, cp:-edge]\n",
    "f_b = (np.abs(data.B))[row, cp:-edge+1]"
   ]
  },
  {
   "cell_type": "code",
   "execution_count": 21,
   "metadata": {},
   "outputs": [],
   "source": [
    "def fit_f(x, a1, c1, a2, c2):\n",
    "    return a1 * np.exp(-c1 * x) + a2 * np.exp(-c2 * x)"
   ]
  },
  {
   "cell_type": "code",
   "execution_count": 22,
   "metadata": {},
   "outputs": [],
   "source": [
    "def cost_function(args, x1, y1, x2, y2):\n",
    "    a1, a2, b1, b2, c1, c2 = args\n",
    "    res_y_1 = a1 * np.exp(-c1 * x1) + a2 * np.exp(-c2 * x1)\n",
    "    res_y_2 = b1 * np.exp(-c1 * x2) + b2 * np.exp(-c2 * x2)\n",
    "    return np.sum((res_y_1 - y1) ** 2 / y1 ** 2) + np.sum((res_y_2 - y2) ** 2 / y2 ** 2)"
   ]
  },
  {
   "cell_type": "code",
   "execution_count": 23,
   "metadata": {},
   "outputs": [],
   "source": [
    "def fit_B(x, a1, c1):\n",
    "    return a1 * np.exp(-c1 * x)"
   ]
  },
  {
   "cell_type": "code",
   "execution_count": 41,
   "metadata": {},
   "outputs": [],
   "source": [
    "x = np.linspace(0, 0.5, len(d_1))"
   ]
  },
  {
   "cell_type": "code",
   "execution_count": 42,
   "metadata": {},
   "outputs": [],
   "source": [
    "opt = sp.optimize.minimize(cost_function, (0.02, 0.3, 0.1, 0.07, 12.2, 20.3), args=(x, d_1, x, d_2))"
   ]
  },
  {
   "cell_type": "code",
   "execution_count": 43,
   "metadata": {},
   "outputs": [],
   "source": [
    "opt_B = sp.optimize.curve_fit(fit_B, x, f_b)"
   ]
  },
  {
   "cell_type": "code",
   "execution_count": 44,
   "metadata": {},
   "outputs": [],
   "source": [
    "def sum_e(x1, a1, a2, c1, c2):\n",
    "    return a1 * np.exp(-c1 * x1) + a2 * np.exp(-c2 * x1)"
   ]
  },
  {
   "cell_type": "code",
   "execution_count": 45,
   "metadata": {},
   "outputs": [],
   "source": [
    "a1, a2, b1, b2, c1, c2 = opt.x"
   ]
  },
  {
   "cell_type": "code",
   "execution_count": 46,
   "metadata": {},
   "outputs": [],
   "source": [
    "start = 0\n",
    "fin = -1"
   ]
  },
  {
   "cell_type": "code",
   "execution_count": 54,
   "metadata": {},
   "outputs": [],
   "source": [
    "import matplotlib.transforms as mtransforms"
   ]
  },
  {
   "cell_type": "code",
   "execution_count": 61,
   "metadata": {},
   "outputs": [
    {
     "name": "stderr",
     "output_type": "stream",
     "text": [
      "/tmp/ipykernel_1581310/1848679588.py:47: UserWarning: Matplotlib is currently using pgf, which is a non-GUI backend, so cannot show the figure.\n",
      "  plt.show()\n"
     ]
    }
   ],
   "source": [
    "fig = fmt.figure()\n",
    "gs = fig.add_gridspec(3,2,width_ratios=[3,1])\n",
    "ax1= fig.add_subplot(gs[:, 0])\n",
    "ax3= fig.add_subplot(gs[0, 1])\n",
    "ax4= fig.add_subplot(gs[1, 1])\n",
    "ax5= fig.add_subplot(gs[2, 1])\n",
    "\n",
    "ax=plt.gca()\n",
    "color = next(ax._get_lines.prop_cycler)['color']\n",
    "ax1.set_xlabel(r'$r/L$')\n",
    "ax1.set_ylabel(r'$\\left(\\left| \\Delta \\left(\\infty\\right) \\right| - \\left| \\Delta \\left(r\\right) \\right|\\right)^2$')\n",
    "ax1.set_yscale('log')\n",
    "ax1.scatter(x[start:fin], d_1[start:fin] ** 2, color=color)\n",
    "ax1.plot(x[start:fin], sum_e(x[start:fin], a1, a2, c1, c2) ** 2, label = r'$\\Delta_1$', color=color)\n",
    "\n",
    "color = next(ax._get_lines.prop_cycler)['color']\n",
    "ax1.scatter(x[start:fin], d_2[start:fin] ** 2, color=color)\n",
    "ax1.plot(x[start:fin], sum_e(x[start:fin], b1, b2, c1, c2) ** 2, label = r'$\\Delta_2$', color=color)\n",
    "ax1.tick_params(axis='y')\n",
    "\n",
    "color = next(ax._get_lines.prop_cycler)['color']\n",
    "ax2 = ax1.twinx()  # instantiate a second axes that shares the same x-axis\n",
    "ax2.set_ylabel(r'$B$')  # we already handled the x-label with ax1\n",
    "ax2.scatter(x[start:fin], f_b[start:fin], color=color)\n",
    "ax2.plot(x[start:fin], fit_B(x[start:fin], *opt_B[0]), label = r'$B$', color=color)\n",
    "ax2.set_yscale('log')\n",
    "#ax1.scatter(dist / 48, ((energies - e_v - 1.001 * energies_b) / (e_v - e_u)), label = 'total')\n",
    "ax3.imshow(np.abs(data.D_1))\n",
    "ax3.text(0.0, 1.0, r'$\\Delta_1$', verticalalignment='top', bbox=dict(facecolor='0.7', edgecolor='1', pad=3.0))\n",
    "ax4.imshow(np.abs(data.D_2))\n",
    "ax4.text(0.0, 1.0, r'$\\Delta_2$', verticalalignment='top', bbox=dict(facecolor='1', edgecolor='0', pad=3.0))\n",
    "ax5.imshow(data.B)\n",
    "ax5.text(0.0, 1.0, r'$B$', verticalalignment='top', bbox=dict(facecolor='0.7', edgecolor='0', pad=3.0))\n",
    "\n",
    "ax3.xaxis.set_visible(False)\n",
    "ax3.yaxis.set_visible(False)\n",
    "ax4.xaxis.set_visible(False)\n",
    "ax4.yaxis.set_visible(False)\n",
    "ax5.yaxis.set_visible(False)\n",
    "\n",
    "fig.tight_layout() \n",
    "ax1.legend(loc=3)\n",
    "ax2.legend(loc=1)\n",
    "\n",
    "plt.subplots_adjust(hspace=0.05)\n",
    "plt.savefig('images/single_vortex.pdf')\n",
    "plt.show()"
   ]
  },
  {
   "cell_type": "code",
   "execution_count": null,
   "metadata": {},
   "outputs": [],
   "source": []
  }
 ],
 "metadata": {
  "interpreter": {
   "hash": "808c0a04072106e852dcdbb24b540d73bee8c79003ea78fc43ea2c4ece76eaf3"
  },
  "kernelspec": {
   "display_name": "Python 3.7.7 ('base')",
   "language": "python",
   "name": "python3"
  },
  "language_info": {
   "codemirror_mode": {
    "name": "ipython",
    "version": 3
   },
   "file_extension": ".py",
   "mimetype": "text/x-python",
   "name": "python",
   "nbconvert_exporter": "python",
   "pygments_lexer": "ipython3",
   "version": "3.11.5"
  },
  "orig_nbformat": 2
 },
 "nbformat": 4,
 "nbformat_minor": 2
}
