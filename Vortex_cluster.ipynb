{
 "cells": [
  {
   "cell_type": "code",
   "execution_count": 18,
   "metadata": {},
   "outputs": [
    {
     "name": "stdout",
     "output_type": "stream",
     "text": [
      "b'float'\n",
      "SELF CONSISTENT [GAUGE, HARTREE]  ==> [True, False]\n",
      "The current simulation does not export HoppingFields\n",
      "Note: Magnetic free energy density not added to free energy density because defined on plaquettes\n"
     ]
    }
   ],
   "source": [
    "import os\n",
    "import scipy as sp\n",
    "import rsmf\n",
    "import matplotlib\n",
    "from matplotlib import pyplot as plt\n",
    "from postProcessing.importData import *\n",
    "\n",
    "\n",
    "NAME = \"64cl_sv_LV_3\" #11-vortex case 6422JO-1.70c12-1.h5 ; 7-vortex case #4822W-1, 11-vortex case 6422JO-1.70c19-1.h5 ; 4822J1, 4822J, 4822JL-1, 4822JL-10, 64MJO-1.70c19.h5\n",
    "# first type - 64cl_v, 64cl_11, 64_cl_18, 64cl_LV, 64cl_LV18\n",
    "# second type - 64cl_v_s3, 64cl_s_18, 64cl_s_11, 64cl_s_7, 64cl_s_3, 64cl_s_3-1, 64cl_s_3-1-1\n",
    "# third type - 64cl_sv_2-2, 64cl_sv_18, 64cl_sv_11, 64cl_sv_7, 64cl_sv_LV_11, 64cl_sv_LV_5\n",
    "# fourth type 64cl_sv_4\n",
    "PATH = \"./simulations/\" + NAME\n",
    "if(os.path.isdir(NAME)):\n",
    "    print(\"Enter a valid file name\")\n",
    "else:\n",
    "    PATH += \".h5\"\n",
    "    data = dataProcessing(PATH)"
   ]
  },
  {
   "cell_type": "code",
   "execution_count": 19,
   "metadata": {},
   "outputs": [],
   "source": [
    "fmt = rsmf.setup(r\"\\documentclass[aps, prb, superscriptaddress, twocolumn, letterpaper, 10pt, amsfonts, amsmath, amssymb, groupedaddress, longbibliography]{revtex4-2}\")"
   ]
  },
  {
   "cell_type": "code",
   "execution_count": 21,
   "metadata": {},
   "outputs": [
    {
     "name": "stderr",
     "output_type": "stream",
     "text": [
      "/tmp/ipykernel_1703583/2122628120.py:44: UserWarning: Matplotlib is currently using pgf, which is a non-GUI backend, so cannot show the figure.\n",
      "  plt.show()\n"
     ]
    }
   ],
   "source": [
    "fig = fmt.figure()\n",
    "gs = fig.add_gridspec(2,3)\n",
    "ax1= fig.add_subplot(gs[0, 0])\n",
    "ax2= fig.add_subplot(gs[1, 0])\n",
    "ax3= fig.add_subplot(gs[0, 1])\n",
    "ax4= fig.add_subplot(gs[1, 1])\n",
    "ax5= fig.add_subplot(gs[0, 2])\n",
    "ax6= fig.add_subplot(gs[1, 2])\n",
    "\n",
    "#ax1.scatter(dist / 48, ((energies - e_v - 1.001 * energies_b) / (e_v - e_u)), label = 'total')\n",
    "plt.set_cmap('Oranges')\n",
    "ax1.imshow(np.abs(data.D_1))\n",
    "ax1.text(0.0, 1.0, r'$\\left|\\Delta_1\\right|$', verticalalignment='top', bbox=dict(facecolor='1', edgecolor='0', pad=3.0))\n",
    "plt.set_cmap('twilight')\n",
    "ax2.imshow(np.angle(data.D_1))\n",
    "ax2.text(0.0, 1.0, r'$\\varphi_1$', verticalalignment='top', bbox=dict(facecolor='1', edgecolor='0', pad=3.0))\n",
    "plt.set_cmap('Greens')\n",
    "ax3.imshow(np.abs(data.D_2))\n",
    "ax3.text(0.0, 1.0, r'$\\left|\\Delta_2\\right|$', verticalalignment='top', bbox=dict(facecolor='1', edgecolor='0', pad=3.0))\n",
    "plt.set_cmap('twilight')\n",
    "ax4.imshow(np.angle(data.D_2))\n",
    "ax4.text(0.0, 1.0, r'$\\varphi_2$', verticalalignment='top', bbox=dict(facecolor='1', edgecolor='0', pad=3.0))\n",
    "plt.set_cmap('Purples')\n",
    "ax5.imshow(data.B)\n",
    "ax5.text(0.0, 1.0, r'$B$', verticalalignment='top', bbox=dict(facecolor='1', edgecolor='0', pad=3.0))\n",
    "plt.set_cmap('Reds')\n",
    "ax6.imshow(data.Jx ** 2 + data.Jy ** 2)\n",
    "ax6.text(0.0, 1.0, r'$\\left|J\\right|$', verticalalignment='top', bbox=dict(facecolor='1', edgecolor='0', pad=3.0))\n",
    "\n",
    "ax1.xaxis.set_visible(False)\n",
    "ax3.xaxis.set_visible(False)\n",
    "ax3.yaxis.set_visible(False)\n",
    "ax4.yaxis.set_visible(False)\n",
    "ax5.xaxis.set_visible(False)\n",
    "ax5.yaxis.set_visible(False)\n",
    "ax6.yaxis.set_visible(False)\n",
    "\n",
    "\n",
    "\n",
    "fig.tight_layout() \n",
    "\n",
    "plt.subplots_adjust(hspace=0.2, wspace=-0.25)\n",
    "plt.savefig('images/Vortex_cluster_3.pdf')\n",
    "plt.show()"
   ]
  },
  {
   "cell_type": "code",
   "execution_count": null,
   "metadata": {},
   "outputs": [],
   "source": []
  },
  {
   "cell_type": "code",
   "execution_count": null,
   "metadata": {},
   "outputs": [],
   "source": []
  },
  {
   "cell_type": "code",
   "execution_count": null,
   "metadata": {},
   "outputs": [],
   "source": []
  }
 ],
 "metadata": {
  "interpreter": {
   "hash": "808c0a04072106e852dcdbb24b540d73bee8c79003ea78fc43ea2c4ece76eaf3"
  },
  "kernelspec": {
   "display_name": "Python 3.7.7 ('base')",
   "language": "python",
   "name": "python3"
  },
  "language_info": {
   "codemirror_mode": {
    "name": "ipython",
    "version": 3
   },
   "file_extension": ".py",
   "mimetype": "text/x-python",
   "name": "python",
   "nbconvert_exporter": "python",
   "pygments_lexer": "ipython3",
   "version": "3.11.5"
  },
  "orig_nbformat": 2
 },
 "nbformat": 4,
 "nbformat_minor": 2
}
